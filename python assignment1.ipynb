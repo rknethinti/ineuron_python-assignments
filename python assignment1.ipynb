{
 "cells": [
  {
   "cell_type": "markdown",
   "id": "2213955d",
   "metadata": {},
   "source": [
    "# Python Assignment 1"
   ]
  },
  {
   "cell_type": "markdown",
   "id": "6981627a",
   "metadata": {},
   "source": [
    "### 1. In the below elements which of them are values or an expression? eg:- values can be integer or string and expressions will be mathematical operators.\n"
   ]
  },
  {
   "cell_type": "markdown",
   "id": "a0d2c099",
   "metadata": {},
   "source": [
    "*\n",
    "'hello'\n",
    "-87.8\n",
    "-\n",
    "/\n",
    "+\n",
    "6"
   ]
  },
  {
   "cell_type": "markdown",
   "id": "4980d57b",
   "metadata": {},
   "source": [
    "1) * is a expression\n",
    "\n",
    "2) 'hello' is a value\n",
    "\n",
    "3) -87.8 is a value\n",
    "\n",
    "4) - is a expression\n",
    "\n",
    "5) / is a expression\n",
    "\n",
    "6) + is a expression\n",
    "\n",
    "7) 6 is a value"
   ]
  },
  {
   "cell_type": "markdown",
   "id": "3ba68754",
   "metadata": {},
   "source": [
    "### 2. What is the difference between string and variable?"
   ]
  },
  {
   "cell_type": "markdown",
   "id": "8eea18f9",
   "metadata": {},
   "source": [
    "String : \n",
    "\n",
    "Strings are basically values i.e., they are alphabetic letters,words or characters that can be stored in a single or double quotes on both sides of value. strings are immutable. Any value in strings can be accessed by [] square brackets. multi line strings are stored in triple quotes.\n",
    "\n",
    "For Example:\n",
    "\n",
    "Var1 = \"i love ineuron\"\n",
    "Here,\"i love ineuron\" is a string\n",
    "\n",
    "characters inside this string can be accessed like,\n",
    "print(Var1[7:14])\n",
    "Output will be 'ineuron'\n",
    "\n",
    "Variable: \n",
    "\n",
    "variable is a reserved memory location to store values (or) Variables are containers for storing data values.Python has no command for declaring a variable.\n",
    "A variable is created the moment you first assign a value to it. Variables do not need to be declared with any particular type, and can even change type after they have been set.\n",
    "\n",
    "In the above given example, Var1 is a variable, and can be changed to different data types when required.\n"
   ]
  },
  {
   "cell_type": "markdown",
   "id": "451a1f2e",
   "metadata": {},
   "source": [
    "### 3. Describe three different data types. "
   ]
  },
  {
   "cell_type": "markdown",
   "id": "794728fa",
   "metadata": {},
   "source": [
    "1) Numeric data type:\n",
    "\n",
    "In Python, numeric data type represent the data which has numeric value. Numeric value can be integer, floating number or even complex numbers. These values are defined as int, float and complex class in Python.\n",
    "\n",
    "Integers – This value is represented by int class. It contains positive or negative whole numbers (without fraction or decimal). In Python there is no limit to how long an integer value can be.\n",
    "\n",
    "Float – This value is represented by float class. It is a real number with floating point representation. It is specified by a decimal point. Optionally, the character e or E followed by a positive or negative integer may be appended to specify scientific notation.\n",
    "\n",
    "Complex Numbers – Complex number is represented by complex class. It is specified as (real part) + (imaginary part)j. For example – 2+3j\n",
    "\n",
    "\n",
    "\n",
    "\n",
    "\n",
    "\n",
    "\n",
    "2) Sequence data type:\n",
    "\n",
    "In Python, sequence is the ordered collection of similar or different data types. Sequences allows to store multiple values in an organized and efficient fashion. There are several sequence types in Python –\n",
    "\n",
    "String\n",
    "\n",
    "List\n",
    "\n",
    "Tuple\n",
    "\n",
    "\n",
    "\n",
    "\n",
    "\n",
    "\n",
    "\n",
    "3) Boolean Data type:\n",
    "\n",
    "Data type with one of the two built-in values, True or False. Boolean objects that are equal to True are truthy (true), and those equal to False are falsy (false). But non-Boolean objects can be evaluated in Boolean context as well and determined to be true or false. It is denoted by the class bool.\n",
    "\n",
    "Note – True and False with capital ‘T’ and ‘F’ are valid booleans otherwise python will throw an error."
   ]
  },
  {
   "cell_type": "markdown",
   "id": "8d3ac944",
   "metadata": {},
   "source": [
    "### 4. What is an expression made up of? What do all expressions do?"
   ]
  },
  {
   "cell_type": "markdown",
   "id": "063766dd",
   "metadata": {},
   "source": [
    "A) An expression is a combination of values, variables, operators, and calls to functions. Expressions need to be evaluated. If you ask Python to print an expression, the interpreter evaluates the expression and displays the result.\n",
    "\n",
    "B)an expression is evaluated as per the precedence of its operators. So that if there is more than one operator in an expression, their precedence decides which operation will be performed first\n",
    "\n",
    "There are different types of expressions. they are,\n",
    "1) Arithmetic expressions\n",
    "\n",
    "2) Relational expressions\n",
    "\n",
    "3) String expressions\n",
    "\n",
    "4) Logical expressions\n",
    "\n",
    "5) Compound expressions\n",
    "\n",
    "\n"
   ]
  },
  {
   "cell_type": "markdown",
   "id": "476893d5",
   "metadata": {},
   "source": [
    "### 5. This assignment statements, like spam = 10. What is the difference between an expression and a statement?"
   ]
  },
  {
   "cell_type": "markdown",
   "id": "d6a93dee",
   "metadata": {},
   "source": [
    "A Python expression can be defined as any element in our program that evaluates to some value.\n",
    "\n",
    "An expression evaluates to a value. A statement does something. Statements represent an action or command e.g print statements, assignment statements. Expression is a combination of variables, operations and values that yields a result value.\n",
    "\n",
    "An expression is a combination of values, variables, operators, and calls to functions. Expressions need to be evaluated. If you ask Python to print an expression, the interpreter evaluates the expression and displays the result.\n",
    "\n",
    "Expression Vs Statement\n",
    "\n",
    "★Expression\n",
    "Expressions always returns a value\n",
    "Functions are also expressions. Even a non returning function will still return\n",
    "Functions are also expressions. Even a non returning function will still return value, so it is an expression.\n",
    "Can print the result value\n",
    "\n",
    "Examples Of Python Expressions: “Hello” + “World”, 4 + 5 etc.\n",
    "\n",
    "★Statement\n",
    "A statement never returns a value\n",
    "Cannot print any result\n",
    "\n",
    "Examples Of Python Statements: Assignment statements, conditional branching, loops, classes, import, def, try, except, pass, del etc\n",
    "\n",
    "★Summary\n",
    "In simpler terms, we can say that anything that evaluates to something is a Python expression, while on the other hand, anything that does something is a Python statement. Curious to learn further? Follow our other articles in this blog to know more!\n",
    "\n"
   ]
  },
  {
   "cell_type": "markdown",
   "id": "2615aed6",
   "metadata": {},
   "source": [
    "### 6. After running the following code, what does the variable bacon contain? \n",
    "\n",
    "bacon = 22\n",
    "\n",
    "bacon + 1"
   ]
  },
  {
   "cell_type": "code",
   "execution_count": 1,
   "id": "7d62656a",
   "metadata": {},
   "outputs": [
    {
     "name": "stdout",
     "output_type": "stream",
     "text": [
      "23\n"
     ]
    }
   ],
   "source": [
    "bacon =22\n",
    "print (bacon+1)\n",
    "\n",
    "# the variable bacon contains value 23"
   ]
  },
  {
   "cell_type": "markdown",
   "id": "1745673d",
   "metadata": {},
   "source": [
    "### 7. What should the values of the following two terms be?\n",
    "\n",
    "'spam' + 'spamspam'\n",
    "\n",
    "'spam' * 3"
   ]
  },
  {
   "cell_type": "code",
   "execution_count": 2,
   "id": "98da3ec9",
   "metadata": {},
   "outputs": [
    {
     "name": "stdout",
     "output_type": "stream",
     "text": [
      "spamspamspam\n",
      "spamspamspam\n"
     ]
    }
   ],
   "source": [
    "print('spam' + 'spamspam')\n",
    "\n",
    "print('spam' * 3)"
   ]
  },
  {
   "cell_type": "markdown",
   "id": "4acc270a",
   "metadata": {},
   "source": [
    "Both the statements gives same output values i.e,\n",
    "\n",
    "spamspamspam\n",
    "\n",
    "spamspamspam\n"
   ]
  },
  {
   "cell_type": "markdown",
   "id": "ae3fcb8a",
   "metadata": {},
   "source": [
    "### 8. Why is eggs a valid variable name while 100 is invalid?"
   ]
  },
  {
   "cell_type": "markdown",
   "id": "4a15dd5a",
   "metadata": {},
   "source": [
    "eggs is a alphabetic variable or started with alphabet letter. here in python variable should start with alphabetic letters but is not allowed to start with numeric values as it causes complications in python operations.\n",
    "\n",
    "As the later variable is made or started with number values that cannot be considered as variable and drops in error."
   ]
  },
  {
   "cell_type": "markdown",
   "id": "aeb85529",
   "metadata": {},
   "source": [
    "### 9. What three functions can be used to get the integer, floating-point number, or string version of a value?"
   ]
  },
  {
   "cell_type": "markdown",
   "id": "20b7c3f8",
   "metadata": {},
   "source": [
    "The int() , float() , and str( ) functions will evaluate to the \n",
    "integer, floating-point number, and string versions of the value passed to them respectively."
   ]
  },
  {
   "cell_type": "markdown",
   "id": "b2e12d12",
   "metadata": {},
   "source": [
    "### 10. Why does this expression cause an error? How can you fix it?\n",
    "\n",
    "'I have eaten' + 99 + 'burritos.'"
   ]
  },
  {
   "cell_type": "markdown",
   "id": "6d8982a3",
   "metadata": {},
   "source": [
    "numerical(int & float) values cannot be added with strings, thats why the python compiler drops in an error.\n",
    "\n",
    "\n",
    "In order to add 99 to the above string statements, we need to convert the numerical value (99) to a string. This can be done by simply putting single/double quotes to 99 on both sides.\n",
    "like '99' or \"99\"\n",
    "\n",
    "check the below code (fixed):"
   ]
  },
  {
   "cell_type": "code",
   "execution_count": 4,
   "id": "df2ef0b4",
   "metadata": {},
   "outputs": [
    {
     "name": "stdout",
     "output_type": "stream",
     "text": [
      "I have eaten 99 burritos\n"
     ]
    }
   ],
   "source": [
    "print('I have eaten '+'99'+' burritos')\n"
   ]
  },
  {
   "cell_type": "code",
   "execution_count": null,
   "id": "55117387",
   "metadata": {},
   "outputs": [],
   "source": []
  }
 ],
 "metadata": {
  "kernelspec": {
   "display_name": "Python 3 (ipykernel)",
   "language": "python",
   "name": "python3"
  },
  "language_info": {
   "codemirror_mode": {
    "name": "ipython",
    "version": 3
   },
   "file_extension": ".py",
   "mimetype": "text/x-python",
   "name": "python",
   "nbconvert_exporter": "python",
   "pygments_lexer": "ipython3",
   "version": "3.9.7"
  }
 },
 "nbformat": 4,
 "nbformat_minor": 5
}
